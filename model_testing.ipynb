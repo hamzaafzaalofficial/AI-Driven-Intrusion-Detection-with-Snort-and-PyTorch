{
 "cells": [
  {
   "cell_type": "code",
   "execution_count": null,
   "metadata": {
    "vscode": {
     "languageId": "plaintext"
    }
   },
   "outputs": [],
   "source": [
    "model = model.cuda()\n",
    "model.eval()\n",
    "\n",
    "# Convert your input features to GPU tensor\n",
    "test_input = torch.tensor([[0.0000e+00, 6.8000e+01, 2.5526e+11, 6.7000e+01, 1.7000e+01]], \n",
    "                         dtype=torch.float32).cuda()\n",
    "\n",
    "# Make prediction\n",
    "with torch.no_grad():\n",
    "    prediction = model(test_input)\n",
    "    probability = prediction.item()\n",
    "    is_intrusion = probability > 0.5\n",
    "    \n",
    "    print(\"\\nPrediction Results:\")\n",
    "    print(f\"Probability of Intrusion: {probability:.4f}\")\n",
    "    print(f\"Classification: {'Intrusion' if is_intrusion else 'Normal Traffic'}\")\n",
    "    print(f\"Confidence: {max(probability, 1-probability)*100:.2f}%\")"
   ]
  }
 ],
 "metadata": {
  "language_info": {
   "name": "python"
  }
 },
 "nbformat": 4,
 "nbformat_minor": 2
}
